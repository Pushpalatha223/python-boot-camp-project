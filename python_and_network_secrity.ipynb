{
  "nbformat": 4,
  "nbformat_minor": 0,
  "metadata": {
    "colab": {
      "name": "python and network secrity",
      "provenance": [],
      "collapsed_sections": [],
      "mount_file_id": "1IUWM8ffxcDcKgw9qzKgviIBJ-US8qFAX",
      "authorship_tag": "ABX9TyMCQFf7DrXTgH3n6vojnhvy",
      "include_colab_link": true
    },
    "kernelspec": {
      "name": "python3",
      "display_name": "Python 3"
    },
    "language_info": {
      "name": "python"
    }
  },
  "cells": [
    {
      "cell_type": "markdown",
      "metadata": {
        "id": "view-in-github",
        "colab_type": "text"
      },
      "source": [
        "<a href=\"https://colab.research.google.com/github/Pushpalatha223/python-boot-camp-project/blob/main/python_and_network_secrity.ipynb\" target=\"_parent\"><img src=\"https://colab.research.google.com/assets/colab-badge.svg\" alt=\"Open In Colab\"/></a>"
      ]
    },
    {
      "cell_type": "code",
      "metadata": {
        "colab": {
          "base_uri": "https://localhost:8080/"
        },
        "id": "SdlhT73aF9A5",
        "outputId": "a81eb867-c02a-460d-ebff-07049614df5a"
      },
      "source": [
        "import hashlib\n",
        "hash_object = hashlib.sha256(b'Hello World')\n",
        "hex_dig = hash_object.hexdigest()\n",
        "print(hex_dig)"
      ],
      "execution_count": null,
      "outputs": [
        {
          "output_type": "stream",
          "text": [
            "a591a6d40bf420404a011733cfb7b190d62c65bf0bcda32b57b277d9ad9f146e\n"
          ],
          "name": "stdout"
        }
      ]
    },
    {
      "cell_type": "code",
      "metadata": {
        "colab": {
          "base_uri": "https://localhost:8080/"
        },
        "id": "2RgmlHMnHLOH",
        "outputId": "c63ff6e2-dfbd-4aa7-f519-01bf3463dc10"
      },
      "source": [
        "text = \"pushpa latha python mini project\"\n",
        "\n",
        "hash_object = hashlib.md5(text.encode())\n",
        "md5_hash = hash_object.hexdigest()\n",
        "\n",
        "\n",
        "print(md5_hash)"
      ],
      "execution_count": null,
      "outputs": [
        {
          "output_type": "stream",
          "text": [
            "3d121a64adf0cdd1d22f68b19840d16e\n"
          ],
          "name": "stdout"
        }
      ]
    },
    {
      "cell_type": "code",
      "metadata": {
        "id": "zDyJ8Dy0JVgX"
      },
      "source": [
        ""
      ],
      "execution_count": null,
      "outputs": []
    }
  ]
}